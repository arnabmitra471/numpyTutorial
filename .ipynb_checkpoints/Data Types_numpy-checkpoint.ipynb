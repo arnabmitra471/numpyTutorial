{
 "cells": [
  {
   "cell_type": "markdown",
   "id": "2596e166-8096-4c22-8f80-0899c39bb7b1",
   "metadata": {},
   "source": [
    "# Data types in numpy"
   ]
  },
  {
   "cell_type": "code",
   "execution_count": 1,
   "id": "d455e936-935c-45f8-a85b-77ddf55681ef",
   "metadata": {},
   "outputs": [],
   "source": [
    "import numpy as np"
   ]
  },
  {
   "cell_type": "code",
   "execution_count": 2,
   "id": "dc4b1a1a-a7f0-4a0b-b757-fc166644adea",
   "metadata": {},
   "outputs": [
    {
     "name": "stdout",
     "output_type": "stream",
     "text": [
      "Data type int32\n"
     ]
    }
   ],
   "source": [
    "arr = np.array([1,2,3,4,12,17,18,19,45,32,89,198,432])\n",
    "print(\"Data type\",arr.dtype)"
   ]
  },
  {
   "cell_type": "code",
   "execution_count": 3,
   "id": "4a7360fa-127b-41e8-b4b3-1c660023b5d5",
   "metadata": {},
   "outputs": [
    {
     "name": "stdout",
     "output_type": "stream",
     "text": [
      "Data type float64\n"
     ]
    }
   ],
   "source": [
    "arr = np.array([1.4,1.6,8.56,9.87,10.87,56.74])\n",
    "print(\"Data type\",arr.dtype)"
   ]
  },
  {
   "cell_type": "code",
   "execution_count": 4,
   "id": "a656fa0a-30c6-4670-97ff-13942e7ca8c2",
   "metadata": {},
   "outputs": [
    {
     "name": "stdout",
     "output_type": "stream",
     "text": [
      "Data type <U1\n"
     ]
    }
   ],
   "source": [
    "arr = np.array([\"A\",\"S\",\"D\",\"F\",\"G\"])\n",
    "print(\"Data type\",arr.dtype)"
   ]
  },
  {
   "cell_type": "code",
   "execution_count": 5,
   "id": "b73f1d0a-b937-4614-9a5c-806ae690393d",
   "metadata": {},
   "outputs": [
    {
     "name": "stdout",
     "output_type": "stream",
     "text": [
      "Data type <U11\n"
     ]
    }
   ],
   "source": [
    "arr = np.array([\"A\",\"S\",\"D\",\"F\",\"G\",1,6,5,3,6])\n",
    "print(\"Data type\",arr.dtype)"
   ]
  },
  {
   "cell_type": "code",
   "execution_count": 6,
   "id": "3b976443-e3f1-45fc-8d41-bd9a4a60b3f8",
   "metadata": {},
   "outputs": [
    {
     "name": "stdout",
     "output_type": "stream",
     "text": [
      "Data type <U32\n"
     ]
    }
   ],
   "source": [
    "arr = np.array([\"A\",\"S\",\"D\",\"F\",\"G\",1.98,1.76,45.87,32.98])\n",
    "print(\"Data type\",arr.dtype)"
   ]
  },
  {
   "cell_type": "code",
   "execution_count": 7,
   "id": "d87cab45-80a1-43d6-a459-786d6b8db918",
   "metadata": {},
   "outputs": [
    {
     "name": "stdout",
     "output_type": "stream",
     "text": [
      "Data type:  int8\n",
      "[ 3  1 87 76 87 98 90 90 89]\n"
     ]
    }
   ],
   "source": [
    "arr1 = np.array([3,1,87,76,87,98,90,90,89],dtype=np.int8)\n",
    "print(\"Data type: \",arr1.dtype)\n",
    "print(arr1)"
   ]
  },
  {
   "cell_type": "code",
   "execution_count": 8,
   "id": "572271a4-1242-47aa-8178-c0e62b374bc8",
   "metadata": {},
   "outputs": [
    {
     "name": "stdout",
     "output_type": "stream",
     "text": [
      "Data type:  float32\n",
      "[ 3.  1. 87. 76. 87. 98. 90. 90. 89.]\n"
     ]
    }
   ],
   "source": [
    "arr2 = np.array([3,1,87,76,87,98,90,90,89],dtype=\"f\")\n",
    "print(\"Data type: \",arr2.dtype)\n",
    "print(arr2)"
   ]
  },
  {
   "cell_type": "code",
   "execution_count": 9,
   "id": "72f37930-272c-4e75-8f24-bc29502cce5a",
   "metadata": {},
   "outputs": [
    {
     "name": "stdout",
     "output_type": "stream",
     "text": [
      "[ 65  87  98  98  21  87 109 187 165 154 132]\n",
      "Data type of arr3 was int32\n",
      "[ 65.  87.  98.  98.  21.  87. 109. 187. 165. 154. 132.]\n",
      "Data type of the arr3 after type casting is float16\n",
      "[ 65  87  98  98  21  87 109 187 165 154 132]\n",
      "Data type of arr3 after type casting to the default integer type is int32\n"
     ]
    }
   ],
   "source": [
    "arr3 = np.array([65,87,98,98,21,87,109,187,165,154,132])\n",
    "print(arr3)\n",
    "print(\"Data type of arr3 was\",arr3.dtype)\n",
    "float_arr = np.float16(arr3)\n",
    "print(float_arr)\n",
    "print(\"Data type of the arr3 after type casting is\",float_arr.dtype)\n",
    "arr3_def = np.int_(float_arr)\n",
    "print(arr3_def)\n",
    "print(\"Data type of arr3 after type casting to the default integer type is\",arr3_def.dtype)"
   ]
  },
  {
   "cell_type": "code",
   "execution_count": 13,
   "id": "e54d6ac1-aa1d-483e-821f-ff29955bbf37",
   "metadata": {},
   "outputs": [
    {
     "name": "stdout",
     "output_type": "stream",
     "text": [
      "[  44.6          87.98         89.98         23.76        143.7641\n",
      " 9976.1256     3467.98126523 2198.94532187]\n",
      "Data type of the marks array is float64\n",
      "[  44.6      87.98     89.98     23.76    143.7641 9976.126  3467.9812\n",
      " 2198.9453]\n",
      "Data type of the marks array after conversion is float32\n"
     ]
    }
   ],
   "source": [
    "marks = np.array([44.6,87.98,89.98,23.76,143.7641,9976.1256,3467.98126523,2198.94532187])\n",
    "print(marks)\n",
    "print(\"Data type of the marks array is\",marks.dtype)\n",
    "marks_float32 = np.float32(marks)\n",
    "print(marks_float32)\n",
    "print(\"Data type of the marks array after conversion is\",marks_float32.dtype)"
   ]
  },
  {
   "cell_type": "code",
   "execution_count": 23,
   "id": "d7d75c85-d9f6-48e1-aee2-36bed8615340",
   "metadata": {},
   "outputs": [
    {
     "name": "stdout",
     "output_type": "stream",
     "text": [
      "['Apple' 'Orange' 'Guava' 'Pineapple' 'Watermelon' 'Muskmelon']\n",
      "Data type:  <U10\n"
     ]
    }
   ],
   "source": [
    "fruits = np.array([\"Apple\",\"Orange\",\"Guava\",\"Pineapple\",\"Watermelon\",\"Muskmelon\"])\n",
    "print(fruits)\n",
    "print(\"Data type: \",fruits.dtype)"
   ]
  },
  {
   "cell_type": "code",
   "execution_count": 26,
   "id": "d8ebab73-d304-48bf-9f9f-36fa6bbabe24",
   "metadata": {},
   "outputs": [
    {
     "name": "stdout",
     "output_type": "stream",
     "text": [
      "['Apple' 'Orange' 'Guava' 'Pineapple' 'Watermelon' 'Muskmelon' '34' '981'\n",
      " '908' '765' '541']\n",
      "Data type:  <U11\n"
     ]
    }
   ],
   "source": [
    "fruits_price = np.array([\"Apple\",\"Orange\",\"Guava\",\"Pineapple\",\"Watermelon\",\"Muskmelon\",34,981,908,765,541])\n",
    "print(fruits_price)\n",
    "print(\"Data type: \",fruits_price.dtype)"
   ]
  },
  {
   "cell_type": "code",
   "execution_count": null,
   "id": "8a9d92d6-9b7e-4c7b-9b08-0fc565138319",
   "metadata": {},
   "outputs": [],
   "source": []
  }
 ],
 "metadata": {
  "kernelspec": {
   "display_name": "Python 3 (ipykernel)",
   "language": "python",
   "name": "python3"
  },
  "language_info": {
   "codemirror_mode": {
    "name": "ipython",
    "version": 3
   },
   "file_extension": ".py",
   "mimetype": "text/x-python",
   "name": "python",
   "nbconvert_exporter": "python",
   "pygments_lexer": "ipython3",
   "version": "3.12.0"
  }
 },
 "nbformat": 4,
 "nbformat_minor": 5
}
