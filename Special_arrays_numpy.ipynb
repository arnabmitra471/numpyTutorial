{
 "cells": [
  {
   "cell_type": "markdown",
   "id": "5e1fbf86-8e7a-4331-a08d-7e95c9f65f1c",
   "metadata": {},
   "source": [
    "# Creating arrays in which all elements are filled with zeros"
   ]
  },
  {
   "cell_type": "code",
   "execution_count": 1,
   "id": "c841fc50-6eae-4780-b396-d846680a2b23",
   "metadata": {},
   "outputs": [],
   "source": [
    "import numpy as np"
   ]
  },
  {
   "cell_type": "code",
   "execution_count": 13,
   "id": "c4b309a2-0e18-482e-9c76-adcc982d2800",
   "metadata": {},
   "outputs": [
    {
     "name": "stdout",
     "output_type": "stream",
     "text": [
      "[0. 0. 0. 0.]\n"
     ]
    }
   ],
   "source": [
    "arr_zeros = np.zeros(4)\n",
    "print(arr_zeros)"
   ]
  },
  {
   "cell_type": "code",
   "execution_count": 14,
   "id": "1f24e270-b255-4437-8f87-52543883aae6",
   "metadata": {},
   "outputs": [],
   "source": [
    "arr1_zeros = np.zeros((3,4))"
   ]
  },
  {
   "cell_type": "code",
   "execution_count": 15,
   "id": "fbd5a04e-c990-4c31-89d6-0b29b7d644fc",
   "metadata": {},
   "outputs": [
    {
     "name": "stdout",
     "output_type": "stream",
     "text": [
      "[[0. 0. 0. 0.]\n",
      " [0. 0. 0. 0.]\n",
      " [0. 0. 0. 0.]]\n"
     ]
    }
   ],
   "source": [
    "print(arr1_zeros)"
   ]
  },
  {
   "cell_type": "markdown",
   "id": "2a8ed9f5-93a9-48c6-b034-08ee8bcdaa64",
   "metadata": {},
   "source": [
    "# Creating an array with all elements filled with ones"
   ]
  },
  {
   "cell_type": "code",
   "execution_count": 17,
   "id": "93d5a972-28f3-4307-a583-e539b675111c",
   "metadata": {},
   "outputs": [
    {
     "name": "stdout",
     "output_type": "stream",
     "text": [
      "[1. 1. 1. 1. 1. 1. 1. 1. 1. 1.]\n"
     ]
    }
   ],
   "source": [
    "arr_ones = np.ones(10)\n",
    "print(arr_ones)"
   ]
  },
  {
   "cell_type": "code",
   "execution_count": 37,
   "id": "2b955169-1aba-4c9d-b29a-d5c01ff93e3e",
   "metadata": {},
   "outputs": [
    {
     "name": "stdout",
     "output_type": "stream",
     "text": [
      "[[1. 1. 1. 1. 1.]\n",
      " [1. 1. 1. 1. 1.]\n",
      " [1. 1. 1. 1. 1.]]\n"
     ]
    }
   ],
   "source": [
    "arr1_ones =np.ones((3,5))\n",
    "print(arr1_ones)"
   ]
  },
  {
   "cell_type": "markdown",
   "id": "817c6f59-4747-46dc-b345-0d2660908e58",
   "metadata": {},
   "source": [
    "# Creating an empty array in numpy"
   ]
  },
  {
   "cell_type": "code",
   "execution_count": 29,
   "id": "893ffeb8-8b9e-49fb-8bcb-f7f1beb65c1e",
   "metadata": {},
   "outputs": [
    {
     "name": "stdout",
     "output_type": "stream",
     "text": [
      "[[1. 1. 1. 1. 1.]\n",
      " [1. 1. 1. 1. 1.]\n",
      " [1. 1. 1. 1. 1.]]\n"
     ]
    }
   ],
   "source": [
    "arr_empty = np.empty((3,5))\n",
    "print(arr_empty)"
   ]
  },
  {
   "cell_type": "code",
   "execution_count": null,
   "id": "30800993-3ac8-406e-8de8-4aa50b566578",
   "metadata": {},
   "outputs": [],
   "source": []
  }
 ],
 "metadata": {
  "kernelspec": {
   "display_name": "Python 3 (ipykernel)",
   "language": "python",
   "name": "python3"
  },
  "language_info": {
   "codemirror_mode": {
    "name": "ipython",
    "version": 3
   },
   "file_extension": ".py",
   "mimetype": "text/x-python",
   "name": "python",
   "nbconvert_exporter": "python",
   "pygments_lexer": "ipython3",
   "version": "3.12.0"
  }
 },
 "nbformat": 4,
 "nbformat_minor": 5
}
