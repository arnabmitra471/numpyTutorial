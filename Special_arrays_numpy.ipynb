{
 "cells": [
  {
   "cell_type": "markdown",
   "id": "5e1fbf86-8e7a-4331-a08d-7e95c9f65f1c",
   "metadata": {},
   "source": [
    "# Creating arrays in which all elements are filled with zeros"
   ]
  },
  {
   "cell_type": "code",
   "execution_count": 1,
   "id": "c841fc50-6eae-4780-b396-d846680a2b23",
   "metadata": {},
   "outputs": [],
   "source": [
    "import numpy as np"
   ]
  },
  {
   "cell_type": "code",
   "execution_count": 2,
   "id": "c4b309a2-0e18-482e-9c76-adcc982d2800",
   "metadata": {},
   "outputs": [
    {
     "name": "stdout",
     "output_type": "stream",
     "text": [
      "[0. 0. 0. 0.]\n"
     ]
    }
   ],
   "source": [
    "arr_zeros = np.zeros(4)\n",
    "print(arr_zeros)"
   ]
  },
  {
   "cell_type": "code",
   "execution_count": 3,
   "id": "1f24e270-b255-4437-8f87-52543883aae6",
   "metadata": {},
   "outputs": [],
   "source": [
    "arr1_zeros = np.zeros((3,4))"
   ]
  },
  {
   "cell_type": "code",
   "execution_count": 4,
   "id": "fbd5a04e-c990-4c31-89d6-0b29b7d644fc",
   "metadata": {},
   "outputs": [
    {
     "name": "stdout",
     "output_type": "stream",
     "text": [
      "[[0. 0. 0. 0.]\n",
      " [0. 0. 0. 0.]\n",
      " [0. 0. 0. 0.]]\n"
     ]
    }
   ],
   "source": [
    "print(arr1_zeros)"
   ]
  },
  {
   "cell_type": "markdown",
   "id": "2a8ed9f5-93a9-48c6-b034-08ee8bcdaa64",
   "metadata": {},
   "source": [
    "# Creating an array with all elements filled with ones"
   ]
  },
  {
   "cell_type": "code",
   "execution_count": 5,
   "id": "93d5a972-28f3-4307-a583-e539b675111c",
   "metadata": {},
   "outputs": [
    {
     "name": "stdout",
     "output_type": "stream",
     "text": [
      "[1. 1. 1. 1. 1. 1. 1. 1. 1. 1.]\n"
     ]
    }
   ],
   "source": [
    "arr_ones = np.ones(10)\n",
    "print(arr_ones)"
   ]
  },
  {
   "cell_type": "code",
   "execution_count": 6,
   "id": "2b955169-1aba-4c9d-b29a-d5c01ff93e3e",
   "metadata": {},
   "outputs": [
    {
     "name": "stdout",
     "output_type": "stream",
     "text": [
      "[[1. 1. 1. 1. 1.]\n",
      " [1. 1. 1. 1. 1.]\n",
      " [1. 1. 1. 1. 1.]]\n"
     ]
    }
   ],
   "source": [
    "arr1_ones =np.ones((3,5))\n",
    "print(arr1_ones)"
   ]
  },
  {
   "cell_type": "markdown",
   "id": "817c6f59-4747-46dc-b345-0d2660908e58",
   "metadata": {},
   "source": [
    "# Creating an empty array in numpy"
   ]
  },
  {
   "cell_type": "code",
   "execution_count": 7,
   "id": "893ffeb8-8b9e-49fb-8bcb-f7f1beb65c1e",
   "metadata": {},
   "outputs": [
    {
     "name": "stdout",
     "output_type": "stream",
     "text": [
      "[[1. 1. 1. 1. 1.]\n",
      " [1. 1. 1. 1. 1.]\n",
      " [1. 1. 1. 1. 1.]]\n"
     ]
    }
   ],
   "source": [
    "arr_empty = np.empty((3,5))\n",
    "print(arr_empty)"
   ]
  },
  {
   "cell_type": "markdown",
   "id": "14223005-b9c4-4889-a169-792a13c1b7ce",
   "metadata": {},
   "source": [
    "# Creating an array with a range of elements"
   ]
  },
  {
   "cell_type": "code",
   "execution_count": 16,
   "id": "deaf14df-7d87-4287-8041-5ec620f2c74d",
   "metadata": {},
   "outputs": [
    {
     "name": "stdout",
     "output_type": "stream",
     "text": [
      "[  1   2   3   4   5   6   7   8   9  10  11  12  13  14  15  16  17  18\n",
      "  19  20  21  22  23  24  25  26  27  28  29  30  31  32  33  34  35  36\n",
      "  37  38  39  40  41  42  43  44  45  46  47  48  49  50  51  52  53  54\n",
      "  55  56  57  58  59  60  61  62  63  64  65  66  67  68  69  70  71  72\n",
      "  73  74  75  76  77  78  79  80  81  82  83  84  85  86  87  88  89  90\n",
      "  91  92  93  94  95  96  97  98  99 100]\n"
     ]
    }
   ],
   "source": [
    "arr_rangeVal = np.arange(1,101)\n",
    "print(arr_rangeVal)"
   ]
  },
  {
   "cell_type": "markdown",
   "id": "f87f996e-2641-46a3-84a2-7cb80eb60c9c",
   "metadata": {},
   "source": [
    "# Creating an array with diagonal elements filled with ones"
   ]
  },
  {
   "cell_type": "code",
   "execution_count": 36,
   "id": "619b03e5-941f-4ee9-a5df-03452948cf66",
   "metadata": {},
   "outputs": [
    {
     "name": "stdout",
     "output_type": "stream",
     "text": [
      "[[1. 0. 0. 0.]\n",
      " [0. 1. 0. 0.]\n",
      " [0. 0. 1. 0.]\n",
      " [0. 0. 0. 1.]]\n"
     ]
    }
   ],
   "source": [
    "arr_Identity = np.eye(4)\n",
    "print(arr_Identity)"
   ]
  },
  {
   "cell_type": "code",
   "execution_count": 56,
   "id": "1ac4c91d-d844-4494-ad2a-7087f510522b",
   "metadata": {},
   "outputs": [
    {
     "name": "stdout",
     "output_type": "stream",
     "text": [
      "[[1. 0. 0. 0.]\n",
      " [0. 1. 0. 0.]\n",
      " [0. 0. 1. 0.]\n",
      " [0. 0. 0. 1.]]\n"
     ]
    }
   ],
   "source": [
    "arr_Identity = np.eye(4)\n",
    "print(arr_Identity)"
   ]
  },
  {
   "cell_type": "markdown",
   "id": "0610d989-fd29-4fc1-b50e-6160009b7e82",
   "metadata": {},
   "source": [
    "# Creating an array with evenly spaced values in a closed interval `[start,stop]`"
   ]
  },
  {
   "cell_type": "markdown",
   "id": "7ad6ed8a-28be-442a-80f6-78e44c2283fe",
   "metadata": {},
   "source": [
    "`np.linspace()` function is used for this purpose"
   ]
  },
  {
   "cell_type": "code",
   "execution_count": 84,
   "id": "8e64ec15-493b-40ab-a7cb-b127dd80f41e",
   "metadata": {},
   "outputs": [
    {
     "name": "stdout",
     "output_type": "stream",
     "text": [
      "[ 0.  5. 10. 15. 20.]\n"
     ]
    }
   ],
   "source": [
    "arr_linear = np.linspace(0,20,num=5)\n",
    "print(arr_linear)"
   ]
  },
  {
   "cell_type": "code",
   "execution_count": null,
   "id": "20571001-c46b-422f-903e-ba16c98b7b2c",
   "metadata": {},
   "outputs": [],
   "source": []
  }
 ],
 "metadata": {
  "kernelspec": {
   "display_name": "Python 3 (ipykernel)",
   "language": "python",
   "name": "python3"
  },
  "language_info": {
   "codemirror_mode": {
    "name": "ipython",
    "version": 3
   },
   "file_extension": ".py",
   "mimetype": "text/x-python",
   "name": "python",
   "nbconvert_exporter": "python",
   "pygments_lexer": "ipython3",
   "version": "3.12.0"
  }
 },
 "nbformat": 4,
 "nbformat_minor": 5
}
