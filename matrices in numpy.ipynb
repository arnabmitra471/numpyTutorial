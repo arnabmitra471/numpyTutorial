{
 "cells": [
  {
   "cell_type": "code",
   "execution_count": 15,
   "id": "6b060574-7a73-4a20-9495-1e36c8a4b5d6",
   "metadata": {},
   "outputs": [],
   "source": [
    "import numpy as np"
   ]
  },
  {
   "cell_type": "code",
   "execution_count": 18,
   "id": "88a760f0-f2f1-4f94-b81d-4c471c0c3ea0",
   "metadata": {},
   "outputs": [
    {
     "name": "stdout",
     "output_type": "stream",
     "text": [
      "[[ 34  87  12  35  98  90  65  67  88 100]\n",
      " [ 45  76  90  88  12 765  12 900 765 123]\n",
      " [ 43 190 187 165 154 154 176 176 198 143]\n",
      " [ 43  98  12  45  98  90  12  34  56  76]]\n",
      "<class 'numpy.matrix'>\n"
     ]
    },
    {
     "data": {
      "text/plain": [
       "matrix([[ 34,  87,  12,  35,  98,  90,  65,  67,  88, 100],\n",
       "        [ 45,  76,  90,  88,  12, 765,  12, 900, 765, 123],\n",
       "        [ 43, 190, 187, 165, 154, 154, 176, 176, 198, 143],\n",
       "        [ 43,  98,  12,  45,  98,  90,  12,  34,  56,  76]])"
      ]
     },
     "execution_count": 18,
     "metadata": {},
     "output_type": "execute_result"
    }
   ],
   "source": [
    "arr = np.array([[34,87,12,35,98,90,65,67,88,100],\n",
    "                [45,76,90,88,12,765,12,900,765,123],\n",
    "                [43,190,187,165,154,154,176,176,198,143],\n",
    "                [43,98,12,45,98,90,12,34,56,76]])\n",
    "\n",
    "mat1 = np.asmatrix(arr)\n",
    "print(mat1)\n",
    "print(type(mat1))\n",
    "mat1"
   ]
  },
  {
   "cell_type": "code",
   "execution_count": 19,
   "id": "eb9aa20f-ff41-46c0-8490-d49057bd1eb7",
   "metadata": {},
   "outputs": [
    {
     "name": "stdout",
     "output_type": "stream",
     "text": [
      "90\n"
     ]
    }
   ],
   "source": [
    "val = mat1[3,5]\n",
    "print(val)"
   ]
  },
  {
   "cell_type": "code",
   "execution_count": 26,
   "id": "64bf7bc0-ddd2-4d16-988d-1341361c3b14",
   "metadata": {},
   "outputs": [
    {
     "name": "stdout",
     "output_type": "stream",
     "text": [
      "34\n",
      "87\n",
      "12\n",
      "35\n",
      "98\n",
      "90\n",
      "65\n",
      "67\n",
      "88\n",
      "100\n",
      "\n",
      "45\n",
      "76\n",
      "90\n",
      "88\n",
      "12\n",
      "765\n",
      "12\n",
      "900\n",
      "765\n",
      "123\n",
      "\n",
      "43\n",
      "190\n",
      "187\n",
      "165\n",
      "154\n",
      "154\n",
      "176\n",
      "176\n",
      "198\n",
      "143\n",
      "\n",
      "43\n",
      "98\n",
      "12\n",
      "45\n",
      "98\n",
      "90\n",
      "12\n",
      "34\n",
      "56\n",
      "76\n",
      "\n"
     ]
    }
   ],
   "source": [
    "for i in range(4):\n",
    "    for j in range(10):\n",
    "        print(mat1[i,j])\n",
    "    print()\n"
   ]
  },
  {
   "cell_type": "code",
   "execution_count": null,
   "id": "f60587e7-68fc-4150-ad8e-fbb0e6d4aa0a",
   "metadata": {},
   "outputs": [],
   "source": []
  }
 ],
 "metadata": {
  "kernelspec": {
   "display_name": "Python 3 (ipykernel)",
   "language": "python",
   "name": "python3"
  },
  "language_info": {
   "codemirror_mode": {
    "name": "ipython",
    "version": 3
   },
   "file_extension": ".py",
   "mimetype": "text/x-python",
   "name": "python",
   "nbconvert_exporter": "python",
   "pygments_lexer": "ipython3",
   "version": "3.12.0"
  }
 },
 "nbformat": 4,
 "nbformat_minor": 5
}
