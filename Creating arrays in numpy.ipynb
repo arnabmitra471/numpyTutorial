{
 "cells": [
  {
   "cell_type": "code",
   "execution_count": 4,
   "id": "b68cc893-3632-4ec0-a409-7cf9d27a3c4d",
   "metadata": {},
   "outputs": [],
   "source": [
    "import numpy as np"
   ]
  },
  {
   "cell_type": "markdown",
   "id": "5ce69b4b-ecfc-478e-b69f-cebcabc0fbfa",
   "metadata": {},
   "source": [
    "# Creating Arrays in Numpy"
   ]
  },
  {
   "cell_type": "code",
   "execution_count": 5,
   "id": "e08ddd17-ed1a-4e65-9a42-6373e5419416",
   "metadata": {},
   "outputs": [],
   "source": [
    "arr = np.array([1,2,3,4,5,6,7,8,9])"
   ]
  },
  {
   "cell_type": "code",
   "execution_count": 6,
   "id": "f45dd00f-fc58-4096-b9d6-a8a44896e7a6",
   "metadata": {},
   "outputs": [
    {
     "name": "stdout",
     "output_type": "stream",
     "text": [
      "[1 2 3 4 5 6 7 8 9]\n"
     ]
    }
   ],
   "source": [
    "print(arr)"
   ]
  },
  {
   "cell_type": "code",
   "execution_count": 7,
   "id": "45db1caf-aa91-4d9d-9816-11f92bd705c3",
   "metadata": {},
   "outputs": [
    {
     "name": "stdout",
     "output_type": "stream",
     "text": [
      "<class 'numpy.ndarray'>\n"
     ]
    }
   ],
   "source": [
    "print(type(arr))"
   ]
  },
  {
   "cell_type": "code",
   "execution_count": 8,
   "id": "b0a27565-d76a-4501-b19b-9bb1e9301b44",
   "metadata": {},
   "outputs": [
    {
     "data": {
      "text/plain": [
       "array([1, 2, 3, 4, 5, 6, 7, 8, 9])"
      ]
     },
     "execution_count": 8,
     "metadata": {},
     "output_type": "execute_result"
    }
   ],
   "source": [
    "arr"
   ]
  },
  {
   "cell_type": "code",
   "execution_count": 9,
   "id": "ea74ccc3-c970-4595-8c44-e04ac2475f8b",
   "metadata": {},
   "outputs": [
    {
     "name": "stdin",
     "output_type": "stream",
     "text": [
      "Enter your marks:  65\n",
      "Enter your marks:  12\n",
      "Enter your marks:  12\n",
      "Enter your marks:  18\n",
      "Enter your marks:  98\n",
      "Enter your marks:  176\n",
      "Enter your marks:  187\n",
      "Enter your marks:  143\n",
      "Enter your marks:  12\n",
      "Enter your marks:  90\n",
      "Enter your marks:  87\n",
      "Enter your marks:  34\n",
      "Enter your marks:  986\n",
      "Enter your marks:  123\n",
      "Enter your marks:  986\n",
      "Enter your marks:  235\n",
      "Enter your marks:  235\n",
      "Enter your marks:  298\n",
      "Enter your marks:  276\n",
      "Enter your marks:  209\n"
     ]
    },
    {
     "name": "stdout",
     "output_type": "stream",
     "text": [
      "[ 65  12  12  18  98 176 187 143  12  90  87  34 986 123 986 235 235 298\n",
      " 276 209]\n"
     ]
    }
   ],
   "source": [
    "marks = []\n",
    "for i in range(1,21):\n",
    "    k = int(input(\"Enter your marks: \"))\n",
    "    marks.append(k)\n",
    "\n",
    "marks_arr = np.array(marks)\n",
    "print(marks_arr)"
   ]
  },
  {
   "cell_type": "code",
   "execution_count": 10,
   "id": "ed47e883-803a-4a87-9558-76098ee74ae3",
   "metadata": {},
   "outputs": [
    {
     "name": "stdout",
     "output_type": "stream",
     "text": [
      "1\n"
     ]
    }
   ],
   "source": [
    "print(marks_arr.ndim)"
   ]
  },
  {
   "cell_type": "code",
   "execution_count": 11,
   "id": "2d62354e-65e0-409c-8d58-d9333d5ba2ad",
   "metadata": {},
   "outputs": [
    {
     "name": "stdout",
     "output_type": "stream",
     "text": [
      "[[ 1  2  3  4  5]\n",
      " [ 1  2  3  6 10]]\n",
      "2\n"
     ]
    }
   ],
   "source": [
    "arr2 = np.array([[1,2,3,4,5],[1,2,3,6,10]])\n",
    "print(arr2)\n",
    "print(arr2.ndim)"
   ]
  },
  {
   "cell_type": "code",
   "execution_count": 12,
   "id": "cb3bca70-ed77-45cc-a7b3-85291f601cfb",
   "metadata": {},
   "outputs": [],
   "source": [
    "arr3 = np.array([\n",
    "    [\n",
    "        [98,17,15,87,12,19,109,165],\n",
    "        [45,98,90,87,67,65,56,90]],\n",
    "    [\n",
    "        [123,90,87,89,198,176,190,123],\n",
    "        [23,90,54,23,198,187,123,98]]\n",
    "])"
   ]
  },
  {
   "cell_type": "code",
   "execution_count": 13,
   "id": "668f07a9-9c1e-4294-ab34-417e77eb9dd4",
   "metadata": {},
   "outputs": [
    {
     "name": "stdout",
     "output_type": "stream",
     "text": [
      "[[[ 98  17  15  87  12  19 109 165]\n",
      "  [ 45  98  90  87  67  65  56  90]]\n",
      "\n",
      " [[123  90  87  89 198 176 190 123]\n",
      "  [ 23  90  54  23 198 187 123  98]]]\n",
      "3\n"
     ]
    }
   ],
   "source": [
    "print(arr3)\n",
    "print(arr3.ndim)"
   ]
  },
  {
   "cell_type": "code",
   "execution_count": 14,
   "id": "6c36dada-3763-4774-8ff7-b9fdc4f47787",
   "metadata": {},
   "outputs": [
    {
     "name": "stdout",
     "output_type": "stream",
     "text": [
      "[1 2 4 6 9]\n",
      "<class 'numpy.ndarray'>\n"
     ]
    }
   ],
   "source": [
    "arr4 = np.array((1,2,4,6,9))\n",
    "print(arr4)\n",
    "print(type(arr4))"
   ]
  },
  {
   "cell_type": "code",
   "execution_count": 26,
   "id": "846fd5f7-bb01-47ec-b97d-6d33ec846675",
   "metadata": {},
   "outputs": [
    {
     "name": "stdout",
     "output_type": "stream",
     "text": [
      "[[  3   5  76  21  90]\n",
      " [  3   5   1  98  32]\n",
      " [ 56  98  87  90  12]\n",
      " [ 34  98  98  87 100]]\n",
      "2\n"
     ]
    }
   ],
   "source": [
    "mat1 = np.array(((3,5,76,21,90),\n",
    "                (3,5,1,98,32),\n",
    "                (56,98,87,90,12),\n",
    "                (34,98,98,87,100)))\n",
    "print(mat1)\n",
    "print(mat1.ndim)"
   ]
  },
  {
   "cell_type": "code",
   "execution_count": 16,
   "id": "e3a9a002-6357-4d5a-a10b-95980e7cd719",
   "metadata": {},
   "outputs": [
    {
     "name": "stdout",
     "output_type": "stream",
     "text": [
      "3\n"
     ]
    }
   ],
   "source": [
    "print(mat1[0][0])"
   ]
  },
  {
   "cell_type": "code",
   "execution_count": 17,
   "id": "1cb6a767-25ff-4a72-9853-cb64bc253894",
   "metadata": {},
   "outputs": [
    {
     "name": "stdout",
     "output_type": "stream",
     "text": [
      "37\n"
     ]
    },
    {
     "data": {
      "text/plain": [
       "0"
      ]
     },
     "execution_count": 17,
     "metadata": {},
     "output_type": "execute_result"
    }
   ],
   "source": [
    "d = np.array(37)\n",
    "print(d)\n",
    "d.ndim"
   ]
  },
  {
   "cell_type": "code",
   "execution_count": 18,
   "id": "a9ac2aa6-1d41-4dbc-94f9-38a478df9d30",
   "metadata": {},
   "outputs": [
    {
     "name": "stdout",
     "output_type": "stream",
     "text": [
      "[ 65  12  12  18  98 176 187 143  12  90  87  34 986 123 986 235 235 298\n",
      " 276 209]\n"
     ]
    }
   ],
   "source": [
    "print(marks_arr)"
   ]
  },
  {
   "cell_type": "markdown",
   "id": "52c35dfa-787c-4ba8-a45e-b4a69d1cef67",
   "metadata": {},
   "source": [
    "# Indexing Array elements"
   ]
  },
  {
   "cell_type": "code",
   "execution_count": 19,
   "id": "2eb90e22-67e1-4f48-a60d-b23746c30643",
   "metadata": {},
   "outputs": [
    {
     "name": "stdout",
     "output_type": "stream",
     "text": [
      "65\n"
     ]
    }
   ],
   "source": [
    "print(marks[0])"
   ]
  },
  {
   "cell_type": "code",
   "execution_count": 20,
   "id": "c513b438-b85e-4859-bb3f-53c9407b8022",
   "metadata": {},
   "outputs": [
    {
     "name": "stdout",
     "output_type": "stream",
     "text": [
      "12\n"
     ]
    }
   ],
   "source": [
    "print(marks[1])"
   ]
  },
  {
   "cell_type": "code",
   "execution_count": 21,
   "id": "d9fab8da-dabd-4f43-b33f-21c10e74fc86",
   "metadata": {},
   "outputs": [
    {
     "name": "stdout",
     "output_type": "stream",
     "text": [
      "65\n",
      "12\n",
      "12\n",
      "18\n",
      "98\n",
      "176\n",
      "187\n",
      "143\n",
      "12\n",
      "90\n",
      "87\n",
      "34\n",
      "986\n",
      "123\n",
      "986\n",
      "235\n",
      "235\n",
      "298\n",
      "276\n",
      "209\n"
     ]
    }
   ],
   "source": [
    "for i in range(20):\n",
    "    print(marks_arr[i])"
   ]
  },
  {
   "cell_type": "code",
   "execution_count": 22,
   "id": "7630bbd1-1261-4840-a850-b5e1ded83b5e",
   "metadata": {},
   "outputs": [
    {
     "name": "stdout",
     "output_type": "stream",
     "text": [
      "[[ 1  2  3  4  5]\n",
      " [ 1  2  3  6 10]]\n"
     ]
    }
   ],
   "source": [
    "print(arr2)"
   ]
  },
  {
   "cell_type": "code",
   "execution_count": 24,
   "id": "7881f5aa-eb73-4a52-81e9-668cc77c941b",
   "metadata": {},
   "outputs": [
    {
     "name": "stdout",
     "output_type": "stream",
     "text": [
      "1\n",
      "1\n",
      "\n",
      "2\n",
      "2\n",
      "\n",
      "3\n",
      "3\n",
      "\n",
      "4\n",
      "6\n",
      "\n",
      "5\n",
      "10\n",
      "\n"
     ]
    }
   ],
   "source": [
    "for i in range(5):\n",
    "    for j in range(2):\n",
    "        print(arr2[j][i])\n",
    "    print()"
   ]
  },
  {
   "cell_type": "code",
   "execution_count": 31,
   "id": "9ec9bfdd-5547-4a08-bdc6-ae86e8cfa34f",
   "metadata": {},
   "outputs": [
    {
     "name": "stdout",
     "output_type": "stream",
     "text": [
      "3\n",
      "3\n",
      "56\n",
      "34\n",
      "\n",
      "5\n",
      "5\n",
      "98\n",
      "98\n",
      "\n",
      "76\n",
      "1\n",
      "87\n",
      "98\n",
      "\n",
      "21\n",
      "98\n",
      "90\n",
      "87\n",
      "\n",
      "90\n",
      "32\n",
      "12\n",
      "100\n",
      "\n"
     ]
    }
   ],
   "source": [
    "for i in range(5):\n",
    "    for j in range(4):\n",
    "        print(mat1[j][i])\n",
    "    print()\n"
   ]
  },
  {
   "cell_type": "code",
   "execution_count": null,
   "id": "24330000-bb0a-4e06-bb7e-632269b18dd7",
   "metadata": {},
   "outputs": [],
   "source": []
  }
 ],
 "metadata": {
  "kernelspec": {
   "display_name": "Python 3 (ipykernel)",
   "language": "python",
   "name": "python3"
  },
  "language_info": {
   "codemirror_mode": {
    "name": "ipython",
    "version": 3
   },
   "file_extension": ".py",
   "mimetype": "text/x-python",
   "name": "python",
   "nbconvert_exporter": "python",
   "pygments_lexer": "ipython3",
   "version": "3.12.0"
  }
 },
 "nbformat": 4,
 "nbformat_minor": 5
}
