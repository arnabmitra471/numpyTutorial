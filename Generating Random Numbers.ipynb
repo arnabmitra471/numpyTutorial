{
 "cells": [
  {
   "cell_type": "markdown",
   "id": "cce1609a-f465-4544-986c-5e26f1d0db99",
   "metadata": {},
   "source": [
    "# Random Module in numpy"
   ]
  },
  {
   "cell_type": "markdown",
   "id": "786e97ae-96b5-48c3-a6a1-46e2dfa0ec92",
   "metadata": {},
   "source": [
    "## `rand()` function\n",
    "The `numpy.random.rand()` function is used to generate random values between 0 and 1"
   ]
  },
  {
   "cell_type": "code",
   "execution_count": 2,
   "id": "b9320ffd-7e14-4143-8d28-ce85632ff7fe",
   "metadata": {},
   "outputs": [],
   "source": [
    "import numpy as np"
   ]
  },
  {
   "cell_type": "code",
   "execution_count": 3,
   "id": "d8a040b4-6f36-4994-be4b-164ba842e3a6",
   "metadata": {},
   "outputs": [
    {
     "name": "stdout",
     "output_type": "stream",
     "text": [
      "[0.61334919 0.54119873 0.05452854 0.85263562]\n"
     ]
    }
   ],
   "source": [
    "values = np.random.rand(4)\n",
    "print(values)"
   ]
  },
  {
   "cell_type": "code",
   "execution_count": 4,
   "id": "f0e0044b-2c2e-4075-a307-2454ae50b70c",
   "metadata": {},
   "outputs": [
    {
     "name": "stdout",
     "output_type": "stream",
     "text": [
      "[[[0.56585231 0.77941077 0.55996582]\n",
      "  [0.70431321 0.60709088 0.70926481]\n",
      "  [0.23088188 0.39046899 0.02249446]\n",
      "  [0.33523637 0.7367398  0.01002409]\n",
      "  [0.1078474  0.53906195 0.27528479]]\n",
      "\n",
      " [[0.8674732  0.74649011 0.29197869]\n",
      "  [0.54835199 0.45630005 0.83761797]\n",
      "  [0.96184086 0.83362944 0.80550113]\n",
      "  [0.29856075 0.02263449 0.46015428]\n",
      "  [0.40838802 0.01127111 0.55934356]]\n",
      "\n",
      " [[0.84722586 0.36313234 0.66136012]\n",
      "  [0.22737014 0.16673751 0.64178682]\n",
      "  [0.21768457 0.00217492 0.49492775]\n",
      "  [0.20001457 0.08190075 0.24947079]\n",
      "  [0.74826624 0.3604877  0.363646  ]]\n",
      "\n",
      " [[0.81592371 0.30224222 0.10605218]\n",
      "  [0.77952346 0.19179567 0.54167029]\n",
      "  [0.86507044 0.08540041 0.11973283]\n",
      "  [0.42168556 0.35108982 0.54660181]\n",
      "  [0.43699775 0.18216343 0.50183334]]\n",
      "\n",
      " [[0.58036031 0.22710368 0.12665376]\n",
      "  [0.03589404 0.02047212 0.20656839]\n",
      "  [0.55062792 0.68168993 0.17829464]\n",
      "  [0.30659176 0.74352094 0.75592468]\n",
      "  [0.31782388 0.2338076  0.43388289]]]\n"
     ]
    }
   ],
   "source": [
    "var1 = np.random.rand(5,5,3)\n",
    "print(var1)"
   ]
  },
  {
   "cell_type": "markdown",
   "id": "be68d7bd-3bc5-4aea-a266-f4d74a2bae25",
   "metadata": {},
   "source": [
    "## `randn()` function\n",
    "The `numpy.random.randn()` function is used to generate random values **close to zero** and it may include **positive and negative** values"
   ]
  },
  {
   "cell_type": "code",
   "execution_count": 5,
   "id": "45853d09-8ba9-4288-b786-69d891ffb7f8",
   "metadata": {},
   "outputs": [
    {
     "name": "stdout",
     "output_type": "stream",
     "text": [
      "[ 1.72871261 -1.45326818 -0.94390243 -0.1537542  -2.09449145  0.14853511\n",
      " -0.44073122  0.05317173  0.22548444 -0.54385326]\n"
     ]
    }
   ],
   "source": [
    "randNegVal = np.random.randn(10)\n",
    "print(randNegVal)"
   ]
  },
  {
   "cell_type": "code",
   "execution_count": 6,
   "id": "ffd719a5-0547-4998-8607-65a1a384ab1f",
   "metadata": {},
   "outputs": [
    {
     "name": "stdout",
     "output_type": "stream",
     "text": [
      "[[-1.16003058 -0.80067109 -0.8967638  -0.05058306 -0.10350184]\n",
      " [-0.44224909 -0.22853866 -0.66224952  0.89205647 -0.06537568]\n",
      " [ 1.87954404 -0.12787924  0.00208493 -0.44660665  1.61856116]\n",
      " [-0.59721612  1.01901635 -0.6950311  -0.70204148  1.67126314]\n",
      " [ 1.30728847  0.01763928 -0.16717217 -0.57257811 -0.38662455]]\n"
     ]
    }
   ],
   "source": [
    "randNegVal2D = np.random.randn(5,5)\n",
    "print(randNegVal2D)"
   ]
  },
  {
   "cell_type": "markdown",
   "id": "d08eea54-a273-4724-92d9-366f85635d1c",
   "metadata": {},
   "source": [
    "## `ranf()` function\n",
    "The `numpy.random.ranf()` function is used to generate an array of a specified shape and fill it with random floating point numbers in the half open interval [0.0,1.0) (0.0 is included in the range and 1.0 is excluded)"
   ]
  },
  {
   "cell_type": "code",
   "execution_count": 7,
   "id": "cf839c71-7948-4c78-b07b-df91f9e3e828",
   "metadata": {},
   "outputs": [
    {
     "name": "stdout",
     "output_type": "stream",
     "text": [
      "[0.80817156 0.30713385 0.20015213 0.19041485 0.88720032]\n"
     ]
    }
   ],
   "source": [
    "randFloatArr = np.random.ranf(5)\n",
    "print(randFloatArr)"
   ]
  },
  {
   "cell_type": "code",
   "execution_count": 8,
   "id": "86b259ec-0d4b-4172-a07b-40f2f8079089",
   "metadata": {},
   "outputs": [
    {
     "name": "stdout",
     "output_type": "stream",
     "text": [
      "[[[0.56647018 0.66005996]\n",
      "  [0.79196013 0.59857837]\n",
      "  [0.97923912 0.00809999]]\n",
      "\n",
      " [[0.12970739 0.26737731]\n",
      "  [0.25282992 0.61810437]\n",
      "  [0.54150706 0.60848434]]\n",
      "\n",
      " [[0.96735202 0.62012333]\n",
      "  [0.65211891 0.0255916 ]\n",
      "  [0.94263363 0.97188615]]\n",
      "\n",
      " [[0.94654368 0.78906562]\n",
      "  [0.08282003 0.6327012 ]\n",
      "  [0.89419618 0.29649379]]\n",
      "\n",
      " [[0.59072557 0.01948542]\n",
      "  [0.12336394 0.19420743]\n",
      "  [0.52076757 0.76160332]]]\n"
     ]
    }
   ],
   "source": [
    "randFloatArr1 = np.random.ranf((5,3,2))\n",
    "print(randFloatArr1)"
   ]
  },
  {
   "cell_type": "markdown",
   "id": "a23e2aaa-1beb-4b86-86cc-5eb809aada99",
   "metadata": {},
   "source": [
    "## `randint()` function\n",
    "The `numpy.random.randint()` function generates a random number within a specified range"
   ]
  },
  {
   "cell_type": "code",
   "execution_count": 19,
   "id": "8a3df57d-cfd7-4273-b943-83656b0f8751",
   "metadata": {},
   "outputs": [
    {
     "name": "stdout",
     "output_type": "stream",
     "text": [
      "[17 14  7 16 17 16  7 11 16  6]\n"
     ]
    }
   ],
   "source": [
    "randnums = np.random.randint(5,20,10)\n",
    "print(randnums)"
   ]
  },
  {
   "cell_type": "code",
   "execution_count": 10,
   "id": "30450cc6-019b-4c5f-932b-33e0be263c02",
   "metadata": {},
   "outputs": [
    {
     "name": "stdout",
     "output_type": "stream",
     "text": [
      "[[15  9 16  9 13]\n",
      " [ 7 18  8  7 16]\n",
      " [ 9 13 10 10  7]]\n"
     ]
    }
   ],
   "source": [
    "randnums_2D = np.random.randint(5,20,(3,5))\n",
    "print(randnums_2D)"
   ]
  },
  {
   "cell_type": "markdown",
   "id": "e464c84b-58f2-4150-a6eb-d149d5620ebd",
   "metadata": {},
   "source": [
    "# Identitity matirix in numpy\n",
    "`np.identity(n)` returns an identity matrix of order `n`"
   ]
  },
  {
   "cell_type": "code",
   "execution_count": 11,
   "id": "7a0a3c98-20af-4875-8919-1c23f18350a5",
   "metadata": {},
   "outputs": [
    {
     "name": "stdout",
     "output_type": "stream",
     "text": [
      "[[1. 0. 0. 0. 0.]\n",
      " [0. 1. 0. 0. 0.]\n",
      " [0. 0. 1. 0. 0.]\n",
      " [0. 0. 0. 1. 0.]\n",
      " [0. 0. 0. 0. 1.]]\n"
     ]
    }
   ],
   "source": [
    "I = np.identity(5)\n",
    "print(I)"
   ]
  },
  {
   "cell_type": "markdown",
   "id": "4190579f-bed3-431b-8c79-2d8c3ac78b8d",
   "metadata": {},
   "source": [
    "# Creating an array with a given shape which is filled with a specified `fill_value`"
   ]
  },
  {
   "cell_type": "code",
   "execution_count": 12,
   "id": "fc6fadda-88aa-4954-aea8-be93b9d86718",
   "metadata": {},
   "outputs": [
    {
     "name": "stdout",
     "output_type": "stream",
     "text": [
      "[[10 10 10 10]\n",
      " [10 10 10 10]\n",
      " [10 10 10 10]\n",
      " [10 10 10 10]\n",
      " [10 10 10 10]]\n"
     ]
    }
   ],
   "source": [
    "arr1 = np.full((5,4),10)\n",
    "print(arr1)"
   ]
  },
  {
   "cell_type": "markdown",
   "id": "b0ef3eb4-dabf-41d7-9923-e4ecd30850f4",
   "metadata": {},
   "source": [
    "# Selecting a random value from an array of values\n",
    "To pick a random value from an array of values we use `numpy.random.choice()` method\n",
    "\n",
    "It can also return an array of random values with a specified shape\n",
    "\n",
    "The syntax of `np.random.choice()` method is as follows:-\n",
    "`np.random.choice(arr,size:int or tuple_of_ints,replace:boolean optional,p:1D array_like:optional)`\n",
    "\n",
    "```python\n",
    "import numpy as np\n",
    "arr = np.array([65,89,98,12,54,65,78,89,156,987,453])\n",
    "randArrVal = random.choice(arr)\n",
    "print(randArrVal)\n",
    "```"
   ]
  },
  {
   "cell_type": "code",
   "execution_count": 13,
   "id": "38d39436-643e-4a4c-bcc6-cca151186b69",
   "metadata": {},
   "outputs": [
    {
     "name": "stdout",
     "output_type": "stream",
     "text": [
      "[[156  65  89  78 453]\n",
      " [ 65  89 156  12  98]\n",
      " [156  65  89  98  65]\n",
      " [987  65  65  65  89]\n",
      " [453  65  98 156  54]\n",
      " [ 12 156  65  89  89]\n",
      " [ 89  78  89 453  98]\n",
      " [156  12  65 453  98]\n",
      " [ 12  54 453  98  98]\n",
      " [ 89  78  89  54 453]]\n"
     ]
    }
   ],
   "source": [
    "arr = np.array([65,89,98,12,54,65,78,89,156,987,453])\n",
    "randArrVal = np.random.choice(arr,size=(10,5))\n",
    "print(randArrVal)"
   ]
  },
  {
   "cell_type": "code",
   "execution_count": 14,
   "id": "5ebf5b1e-54df-4ec8-958d-1a55f0abdddf",
   "metadata": {},
   "outputs": [
    {
     "name": "stdout",
     "output_type": "stream",
     "text": [
      "[ 65  89 453  54  89  78  65  78 987  89]\n"
     ]
    }
   ],
   "source": [
    "arr = np.array([65,89,98,12,54,65,78,89,156,987,453])\n",
    "randArrVal1 = np.random.choice(arr,size=10)\n",
    "print(randArrVal1)"
   ]
  },
  {
   "cell_type": "code",
   "execution_count": null,
   "id": "26b4b0ee-dce0-46e6-a8c3-ce66552a1fa7",
   "metadata": {},
   "outputs": [],
   "source": []
  }
 ],
 "metadata": {
  "kernelspec": {
   "display_name": "Python 3 (ipykernel)",
   "language": "python",
   "name": "python3"
  },
  "language_info": {
   "codemirror_mode": {
    "name": "ipython",
    "version": 3
   },
   "file_extension": ".py",
   "mimetype": "text/x-python",
   "name": "python",
   "nbconvert_exporter": "python",
   "pygments_lexer": "ipython3",
   "version": "3.12.0"
  }
 },
 "nbformat": 4,
 "nbformat_minor": 5
}
