{
 "cells": [
  {
   "cell_type": "markdown",
   "id": "cce1609a-f465-4544-986c-5e26f1d0db99",
   "metadata": {},
   "source": [
    "# Random Module in numpy"
   ]
  },
  {
   "cell_type": "markdown",
   "id": "786e97ae-96b5-48c3-a6a1-46e2dfa0ec92",
   "metadata": {},
   "source": [
    "## `rand()` function\n",
    "The `numpy.random.rand()` function is used to generate random values between 0 and 1"
   ]
  },
  {
   "cell_type": "code",
   "execution_count": 1,
   "id": "b9320ffd-7e14-4143-8d28-ce85632ff7fe",
   "metadata": {},
   "outputs": [],
   "source": [
    "import numpy as np"
   ]
  },
  {
   "cell_type": "code",
   "execution_count": 2,
   "id": "d8a040b4-6f36-4994-be4b-164ba842e3a6",
   "metadata": {},
   "outputs": [
    {
     "name": "stdout",
     "output_type": "stream",
     "text": [
      "[0.47061086 0.31690738 0.46476376 0.85187317]\n"
     ]
    }
   ],
   "source": [
    "values = np.random.rand(4)\n",
    "print(values)"
   ]
  },
  {
   "cell_type": "code",
   "execution_count": 3,
   "id": "f0e0044b-2c2e-4075-a307-2454ae50b70c",
   "metadata": {},
   "outputs": [
    {
     "name": "stdout",
     "output_type": "stream",
     "text": [
      "[[[0.56940469 0.7551318  0.9907337 ]\n",
      "  [0.71919486 0.80202266 0.6030765 ]\n",
      "  [0.65793374 0.97427853 0.84738578]\n",
      "  [0.6759435  0.51993162 0.73844175]\n",
      "  [0.33578689 0.63585716 0.18681816]]\n",
      "\n",
      " [[0.64179852 0.47769708 0.48247182]\n",
      "  [0.08550461 0.94908753 0.2594544 ]\n",
      "  [0.35813342 0.81309328 0.19872837]\n",
      "  [0.59143275 0.6173841  0.07245924]\n",
      "  [0.03411024 0.72742237 0.5342368 ]]\n",
      "\n",
      " [[0.12137964 0.57621458 0.80482846]\n",
      "  [0.11112779 0.04538653 0.24256495]\n",
      "  [0.93395597 0.90689772 0.25082031]\n",
      "  [0.61701154 0.50824007 0.14036307]\n",
      "  [0.29779256 0.2268859  0.66462549]]\n",
      "\n",
      " [[0.21606134 0.19324511 0.57042065]\n",
      "  [0.69783146 0.09318918 0.8303507 ]\n",
      "  [0.37693865 0.06187384 0.57208442]\n",
      "  [0.85284452 0.48993677 0.70501014]\n",
      "  [0.6404548  0.24992332 0.53473031]]\n",
      "\n",
      " [[0.78985755 0.58684436 0.62182864]\n",
      "  [0.15817811 0.13470507 0.45381137]\n",
      "  [0.04266698 0.54391671 0.14414997]\n",
      "  [0.49199355 0.365497   0.04025566]\n",
      "  [0.08370775 0.26576876 0.17342014]]]\n"
     ]
    }
   ],
   "source": [
    "var1 = np.random.rand(5,5,3)\n",
    "print(var1)"
   ]
  },
  {
   "cell_type": "markdown",
   "id": "be68d7bd-3bc5-4aea-a266-f4d74a2bae25",
   "metadata": {},
   "source": [
    "## `randn()` function\n",
    "The `numpy.random.randn()` function is used to generate random values **close to zero** and it may include **positive and negative** values"
   ]
  },
  {
   "cell_type": "code",
   "execution_count": 4,
   "id": "45853d09-8ba9-4288-b786-69d891ffb7f8",
   "metadata": {},
   "outputs": [
    {
     "name": "stdout",
     "output_type": "stream",
     "text": [
      "[ 0.09881045  1.55877506 -1.24084437 -0.65507101  0.71998075 -1.13496751\n",
      " -0.04416657 -0.45995499 -0.69340217  0.30734543]\n"
     ]
    }
   ],
   "source": [
    "randNegVal = np.random.randn(10)\n",
    "print(randNegVal)"
   ]
  },
  {
   "cell_type": "code",
   "execution_count": 5,
   "id": "ffd719a5-0547-4998-8607-65a1a384ab1f",
   "metadata": {},
   "outputs": [
    {
     "name": "stdout",
     "output_type": "stream",
     "text": [
      "[[ 0.41462785 -0.05037975 -0.45524573 -1.04743947  0.32177544]\n",
      " [-2.21298458  1.5259088  -0.32916919 -2.09441186  0.44102864]\n",
      " [ 0.06216012 -0.87806479  0.1596158   0.84503515  0.19768598]\n",
      " [ 0.95280012  0.48209198  1.28293328  0.12466857 -0.67472425]\n",
      " [-0.45071763  0.33478066 -0.10105908  0.46048851  0.01235307]]\n"
     ]
    }
   ],
   "source": [
    "randNegVal2D = np.random.randn(5,5)\n",
    "print(randNegVal2D)"
   ]
  },
  {
   "cell_type": "markdown",
   "id": "d08eea54-a273-4724-92d9-366f85635d1c",
   "metadata": {},
   "source": [
    "## `ranf()` function\n",
    "The `numpy.random.ranf()` function is used to generate an array of a specified shape and fill it with random floating point numbers in the half open interval [0.0,1.0) (0.0 is included in the range and 1.0 is excluded)"
   ]
  },
  {
   "cell_type": "code",
   "execution_count": 6,
   "id": "cf839c71-7948-4c78-b07b-df91f9e3e828",
   "metadata": {},
   "outputs": [
    {
     "name": "stdout",
     "output_type": "stream",
     "text": [
      "[0.94875097 0.93135781 0.48476875 0.87978091 0.41733042]\n"
     ]
    }
   ],
   "source": [
    "randFloatArr = np.random.ranf(5)\n",
    "print(randFloatArr)"
   ]
  },
  {
   "cell_type": "code",
   "execution_count": 7,
   "id": "86b259ec-0d4b-4172-a07b-40f2f8079089",
   "metadata": {},
   "outputs": [
    {
     "name": "stdout",
     "output_type": "stream",
     "text": [
      "[[[0.70591444 0.38847281]\n",
      "  [0.01476751 0.28044897]\n",
      "  [0.6309181  0.62491293]]\n",
      "\n",
      " [[0.47093666 0.50387193]\n",
      "  [0.97941134 0.60124424]\n",
      "  [0.46343702 0.45952223]]\n",
      "\n",
      " [[0.62885068 0.81307137]\n",
      "  [0.38760451 0.30686242]\n",
      "  [0.75501591 0.54120487]]\n",
      "\n",
      " [[0.68329582 0.10887547]\n",
      "  [0.92105952 0.93313326]\n",
      "  [0.89434174 0.00811621]]\n",
      "\n",
      " [[0.71227719 0.54869195]\n",
      "  [0.93063431 0.00826379]\n",
      "  [0.63104509 0.48587673]]]\n"
     ]
    }
   ],
   "source": [
    "randFloatArr1 = np.random.ranf((5,3,2))\n",
    "print(randFloatArr1)"
   ]
  },
  {
   "cell_type": "markdown",
   "id": "a23e2aaa-1beb-4b86-86cc-5eb809aada99",
   "metadata": {},
   "source": [
    "## `randint()` function\n",
    "The `numpy.random.randint()` function generates a random number within a specified range"
   ]
  },
  {
   "cell_type": "code",
   "execution_count": 8,
   "id": "8a3df57d-cfd7-4273-b943-83656b0f8751",
   "metadata": {},
   "outputs": [
    {
     "name": "stdout",
     "output_type": "stream",
     "text": [
      "[ 7 15 16 14 19  7 11 18  5 12]\n"
     ]
    }
   ],
   "source": [
    "randnums = np.random.randint(5,20,10)\n",
    "print(randnums)"
   ]
  },
  {
   "cell_type": "code",
   "execution_count": 9,
   "id": "30450cc6-019b-4c5f-932b-33e0be263c02",
   "metadata": {},
   "outputs": [
    {
     "name": "stdout",
     "output_type": "stream",
     "text": [
      "[[ 9 12  7 12  6]\n",
      " [11 17  5 12  7]\n",
      " [19 13  9  5 16]]\n"
     ]
    }
   ],
   "source": [
    "randnums_2D = np.random.randint(5,20,(3,5))\n",
    "print(randnums_2D)"
   ]
  },
  {
   "cell_type": "markdown",
   "id": "e464c84b-58f2-4150-a6eb-d149d5620ebd",
   "metadata": {},
   "source": [
    "# Identitity matirix in numpy\n",
    "`np.identity(n)` returns an identity matrix of order `n`"
   ]
  },
  {
   "cell_type": "code",
   "execution_count": 10,
   "id": "7a0a3c98-20af-4875-8919-1c23f18350a5",
   "metadata": {},
   "outputs": [
    {
     "name": "stdout",
     "output_type": "stream",
     "text": [
      "[[1. 0. 0. 0. 0.]\n",
      " [0. 1. 0. 0. 0.]\n",
      " [0. 0. 1. 0. 0.]\n",
      " [0. 0. 0. 1. 0.]\n",
      " [0. 0. 0. 0. 1.]]\n"
     ]
    }
   ],
   "source": [
    "I = np.identity(5)\n",
    "print(I)"
   ]
  },
  {
   "cell_type": "markdown",
   "id": "4190579f-bed3-431b-8c79-2d8c3ac78b8d",
   "metadata": {},
   "source": [
    "# Creating an array with a given shape which is filled with a specified `fill_value`"
   ]
  },
  {
   "cell_type": "code",
   "execution_count": 11,
   "id": "fc6fadda-88aa-4954-aea8-be93b9d86718",
   "metadata": {},
   "outputs": [
    {
     "name": "stdout",
     "output_type": "stream",
     "text": [
      "[[10 10 10 10]\n",
      " [10 10 10 10]\n",
      " [10 10 10 10]\n",
      " [10 10 10 10]\n",
      " [10 10 10 10]]\n"
     ]
    }
   ],
   "source": [
    "arr1 = np.full((5,4),10)\n",
    "print(arr1)"
   ]
  },
  {
   "cell_type": "markdown",
   "id": "b0ef3eb4-dabf-41d7-9923-e4ecd30850f4",
   "metadata": {},
   "source": [
    "# Selecting a random value from an array of values\n",
    "To pick a random value from an array of values we use `numpy.random.choice()` method\n",
    "\n",
    "It can also return an array of random values with a specified shape\n",
    "\n",
    "The syntax of `np.random.choice()` method is as follows:-\n",
    "`np.random.choice(arr,size:int or tuple_of_ints,replace:boolean optional,p:1D array_like:optional)`\n",
    "\n",
    "```python\n",
    "import numpy as np\n",
    "arr = np.array([65,89,98,12,54,65,78,89,156,987,453])\n",
    "randArrVal = random.choice(arr)\n",
    "print(randArrVal)\n",
    "```"
   ]
  },
  {
   "cell_type": "code",
   "execution_count": 21,
   "id": "38d39436-643e-4a4c-bcc6-cca151186b69",
   "metadata": {},
   "outputs": [
    {
     "name": "stdout",
     "output_type": "stream",
     "text": [
      "[[ 65  89  78  65  65]\n",
      " [ 54  89  89 156  12]\n",
      " [ 54  65  65  65  54]\n",
      " [ 65  98  65  12  98]\n",
      " [156  98  65 987  78]\n",
      " [ 89  89 453  12  12]\n",
      " [ 89  89  65 453  98]\n",
      " [ 12  98  54  98 156]\n",
      " [ 65  78 453  78  78]\n",
      " [ 78 156  65  12  65]]\n"
     ]
    }
   ],
   "source": [
    "arr = np.array([65,89,98,12,54,65,78,89,156,987,453])\n",
    "randArrVal = np.random.choice(arr,size=(10,5))\n",
    "print(randArrVal)"
   ]
  },
  {
   "cell_type": "code",
   "execution_count": 23,
   "id": "5ebf5b1e-54df-4ec8-958d-1a55f0abdddf",
   "metadata": {},
   "outputs": [
    {
     "name": "stdout",
     "output_type": "stream",
     "text": [
      "[ 98  89  89  78  89 156  98  98  12  12]\n"
     ]
    }
   ],
   "source": [
    "arr = np.array([65,89,98,12,54,65,78,89,156,987,453])\n",
    "randArrVal1 = np.random.choice(arr,size=10)\n",
    "print(randArrVal1)"
   ]
  },
  {
   "cell_type": "code",
   "execution_count": null,
   "id": "26b4b0ee-dce0-46e6-a8c3-ce66552a1fa7",
   "metadata": {},
   "outputs": [],
   "source": []
  }
 ],
 "metadata": {
  "kernelspec": {
   "display_name": "Python 3 (ipykernel)",
   "language": "python",
   "name": "python3"
  },
  "language_info": {
   "codemirror_mode": {
    "name": "ipython",
    "version": 3
   },
   "file_extension": ".py",
   "mimetype": "text/x-python",
   "name": "python",
   "nbconvert_exporter": "python",
   "pygments_lexer": "ipython3",
   "version": "3.12.0"
  }
 },
 "nbformat": 4,
 "nbformat_minor": 5
}
