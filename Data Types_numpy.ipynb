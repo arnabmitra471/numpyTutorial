{
 "cells": [
  {
   "cell_type": "markdown",
   "id": "2596e166-8096-4c22-8f80-0899c39bb7b1",
   "metadata": {},
   "source": [
    "# Data types in numpy\n",
    "\n",
    "- int8 - For 8 bit signed integers\n",
    "- int16 - For 16 bit signed integers\n",
    "- int32 - For 32 bit signed integers\n",
    "- int64 - For 64 bit signed integers\n",
    "\n",
    "For unsigned integer the data type used in numpy is `uint8`, `uint16`, `uint32` and `uint64` respectively. This also follows the same way for `float` data type used for half precision,single precision and double precision floating point values"
   ]
  },
  {
   "cell_type": "code",
   "execution_count": 48,
   "id": "dffaed93-a45f-486e-89ac-b5014195cb5a",
   "metadata": {},
   "outputs": [],
   "source": [
    "import numpy as np"
   ]
  },
  {
   "cell_type": "markdown",
   "id": "64c4dbcd-c5a3-472b-91c5-504cd75f9d69",
   "metadata": {},
   "source": [
    "## Checking the datatype of a numpy array with `np.dtype` attribute"
   ]
  },
  {
   "cell_type": "markdown",
   "id": "4d86be87-7feb-4954-937b-96629a0d9ca8",
   "metadata": {},
   "source": [
    "### int32 data type in numpy"
   ]
  },
  {
   "cell_type": "code",
   "execution_count": 49,
   "id": "dc4b1a1a-a7f0-4a0b-b757-fc166644adea",
   "metadata": {},
   "outputs": [
    {
     "name": "stdout",
     "output_type": "stream",
     "text": [
      "Data type int32\n"
     ]
    }
   ],
   "source": [
    "arr = np.array([1,2,3,4,12,17,18,19,45,32,89,198,432])\n",
    "print(\"Data type\",arr.dtype)"
   ]
  },
  {
   "cell_type": "code",
   "execution_count": 50,
   "id": "4a7360fa-127b-41e8-b4b3-1c660023b5d5",
   "metadata": {},
   "outputs": [
    {
     "name": "stdout",
     "output_type": "stream",
     "text": [
      "Data type float64\n"
     ]
    }
   ],
   "source": [
    "arr = np.array([1.4,1.6,8.56,9.87,10.87,56.74])\n",
    "print(\"Data type\",arr.dtype)"
   ]
  },
  {
   "cell_type": "markdown",
   "id": "ed47fd29-8e1e-4455-9e11-ede04bb6f2d9",
   "metadata": {},
   "source": [
    "### <U1 Datatype for single character strings\n",
    "The data type for single character strings in `<U1` in numpy.However **note that this data type changes accordingly as you store few words as strings and when values of different datatypes are stored then also this data type changes accordingly.**"
   ]
  },
  {
   "cell_type": "code",
   "execution_count": 51,
   "id": "a656fa0a-30c6-4670-97ff-13942e7ca8c2",
   "metadata": {},
   "outputs": [
    {
     "name": "stdout",
     "output_type": "stream",
     "text": [
      "Data type <U1\n"
     ]
    }
   ],
   "source": [
    "arr = np.array([\"A\",\"S\",\"D\",\"F\",\"G\"])\n",
    "print(\"Data type\",arr.dtype)"
   ]
  },
  {
   "cell_type": "code",
   "execution_count": 52,
   "id": "b73f1d0a-b937-4614-9a5c-806ae690393d",
   "metadata": {},
   "outputs": [
    {
     "name": "stdout",
     "output_type": "stream",
     "text": [
      "['A' 'S' 'D' 'F' 'G' '1' '6' '5' '3' '6']\n",
      "Data type <U11\n"
     ]
    }
   ],
   "source": [
    "arr = np.array([\"A\",\"S\",\"D\",\"F\",\"G\",1,6,5,3,6])\n",
    "print(arr)\n",
    "print(\"Data type\",arr.dtype)"
   ]
  },
  {
   "cell_type": "code",
   "execution_count": 53,
   "id": "3b976443-e3f1-45fc-8d41-bd9a4a60b3f8",
   "metadata": {},
   "outputs": [
    {
     "name": "stdout",
     "output_type": "stream",
     "text": [
      "['A' 'S' 'D' 'F' 'G' '1.98' '1.76' '45.87' '32.98']\n",
      "Data type <U32\n"
     ]
    }
   ],
   "source": [
    "arr = np.array([\"A\",\"S\",\"D\",\"F\",\"G\",1.98,1.76,45.87,32.98])\n",
    "print(arr)\n",
    "print(\"Data type\",arr.dtype)"
   ]
  },
  {
   "cell_type": "code",
   "execution_count": 54,
   "id": "d87cab45-80a1-43d6-a459-786d6b8db918",
   "metadata": {},
   "outputs": [
    {
     "name": "stdout",
     "output_type": "stream",
     "text": [
      "Data type:  int8\n",
      "[ 3  1 87 76 87 98 90 90 89]\n"
     ]
    }
   ],
   "source": [
    "arr1 = np.array([3,1,87,76,87,98,90,90,89],dtype=np.int8)\n",
    "print(\"Data type: \",arr1.dtype)\n",
    "print(arr1)"
   ]
  },
  {
   "cell_type": "code",
   "execution_count": 55,
   "id": "572271a4-1242-47aa-8178-c0e62b374bc8",
   "metadata": {},
   "outputs": [
    {
     "name": "stdout",
     "output_type": "stream",
     "text": [
      "Data type:  float32\n",
      "[ 3.  1. 87. 76. 87. 98. 90. 90. 89.]\n"
     ]
    }
   ],
   "source": [
    "arr2 = np.array([3,1,87,76,87,98,90,90,89],dtype=\"f\")\n",
    "print(\"Data type: \",arr2.dtype)\n",
    "print(arr2)"
   ]
  },
  {
   "cell_type": "code",
   "execution_count": 56,
   "id": "72f37930-272c-4e75-8f24-bc29502cce5a",
   "metadata": {},
   "outputs": [
    {
     "name": "stdout",
     "output_type": "stream",
     "text": [
      "[ 65  87  98  98  21  87 109 187 165 154 132]\n",
      "Data type of arr3 was int32\n",
      "[ 65.  87.  98.  98.  21.  87. 109. 187. 165. 154. 132.]\n",
      "Data type of the arr3 after type casting is float16\n",
      "[ 65  87  98  98  21  87 109 187 165 154 132]\n",
      "Data type of arr3 after type casting to the default integer type is int32\n"
     ]
    }
   ],
   "source": [
    "arr3 = np.array([65,87,98,98,21,87,109,187,165,154,132])\n",
    "print(arr3)\n",
    "print(\"Data type of arr3 was\",arr3.dtype)\n",
    "float_arr = np.float16(arr3)\n",
    "print(float_arr)\n",
    "print(\"Data type of the arr3 after type casting is\",float_arr.dtype)\n",
    "arr3_def = np.int_(float_arr)\n",
    "print(arr3_def)\n",
    "print(\"Data type of arr3 after type casting to the default integer type is\",arr3_def.dtype)"
   ]
  },
  {
   "cell_type": "code",
   "execution_count": 57,
   "id": "e54d6ac1-aa1d-483e-821f-ff29955bbf37",
   "metadata": {},
   "outputs": [
    {
     "name": "stdout",
     "output_type": "stream",
     "text": [
      "[  44.6          87.98         89.98         23.76        143.7641\n",
      " 9976.1256     3467.98126523 2198.94532187]\n",
      "Data type of the marks array is float64\n",
      "[  44.6      87.98     89.98     23.76    143.7641 9976.126  3467.9812\n",
      " 2198.9453]\n",
      "Data type of the marks array after conversion is float32\n"
     ]
    }
   ],
   "source": [
    "marks = np.array([44.6,87.98,89.98,23.76,143.7641,9976.1256,3467.98126523,2198.94532187])\n",
    "print(marks)\n",
    "print(\"Data type of the marks array is\",marks.dtype)\n",
    "marks_float32 = np.float32(marks)\n",
    "print(marks_float32)\n",
    "print(\"Data type of the marks array after conversion is\",marks_float32.dtype)"
   ]
  },
  {
   "cell_type": "code",
   "execution_count": 58,
   "id": "d7d75c85-d9f6-48e1-aee2-36bed8615340",
   "metadata": {},
   "outputs": [
    {
     "name": "stdout",
     "output_type": "stream",
     "text": [
      "['Apple' 'Orange' 'Guava' 'Pineapple' 'Watermelon' 'Muskmelon']\n",
      "Data type:  <U10\n"
     ]
    }
   ],
   "source": [
    "fruits = np.array([\"Apple\",\"Orange\",\"Guava\",\"Pineapple\",\"Watermelon\",\"Muskmelon\"])\n",
    "print(fruits)\n",
    "print(\"Data type: \",fruits.dtype)"
   ]
  },
  {
   "cell_type": "code",
   "execution_count": 59,
   "id": "d8ebab73-d304-48bf-9f9f-36fa6bbabe24",
   "metadata": {},
   "outputs": [
    {
     "name": "stdout",
     "output_type": "stream",
     "text": [
      "['Apple' 'Orange' 'Guava' 'Pineapple' 'Watermelon' 'Muskmelon' '34' '981'\n",
      " '908' '765' '541']\n",
      "Data type:  <U11\n"
     ]
    }
   ],
   "source": [
    "fruits_price = np.array([\"Apple\",\"Orange\",\"Guava\",\"Pineapple\",\"Watermelon\",\"Muskmelon\",34,981,908,765,541])\n",
    "print(fruits_price)\n",
    "print(\"Data type: \",fruits_price.dtype)"
   ]
  },
  {
   "cell_type": "code",
   "execution_count": 60,
   "id": "8a9d92d6-9b7e-4c7b-9b08-0fc565138319",
   "metadata": {},
   "outputs": [
    {
     "name": "stdout",
     "output_type": "stream",
     "text": [
      "[[  34   54   67   12   98  100  176  154  143  122  121]\n",
      " [  23  321  345  121  454  189  176  143  121  347 1098]\n",
      " [ 387  231  987  143  190  165  187  166  155  144 2376]\n",
      " [ 154  432  276  287  276  124  549  870  987  213  987]]\n",
      "Data type of the 2D array is int16\n"
     ]
    }
   ],
   "source": [
    "mat1 = np.array([[34,54,67,12,98,100,176,154,143,122,121],\n",
    "                 [23,321,345,121,454,189,176,143,121,347,1098],\n",
    "                 [387,231,987,143,190,165,187,166,155,144,2376],\n",
    "                 [154,432,276,287,276,124,549,870,987,213,987]],dtype=np.int16)\n",
    "print(mat1)\n",
    "print(\"Data type of the 2D array is\",mat1.dtype)"
   ]
  },
  {
   "cell_type": "code",
   "execution_count": 65,
   "id": "017dcb34-4f27-4a70-b0eb-108dcc059821",
   "metadata": {},
   "outputs": [
    {
     "name": "stdout",
     "output_type": "stream",
     "text": [
      "[[  34.   54.   67.   12.   98.  100.  176.  154.  143.  122.  121.]\n",
      " [  23.  321.  345.  121.  454.  189.  176.  143.  121.  347. 1098.]\n",
      " [ 387.  231.  987.  143.  190.  165.  187.  166.  155.  144. 2376.]\n",
      " [ 154.  432.  276.  287.  276.  124.  549.  870.  987.  213.  987.]]\n",
      "Data type of the 2D array is float16\n",
      "\n",
      "[[  34   54   67   12   98  100  176  154  143  122  121]\n",
      " [  23  321  345  121  454  189  176  143  121  347 1098]\n",
      " [ 387  231  987  143  190  165  187  166  155  144 2376]\n",
      " [ 154  432  276  287  276  124  549  870  987  213  987]]\n",
      "Data of the 2D array now is int32\n"
     ]
    }
   ],
   "source": [
    "mat2 = np.array([[34,54,67,12,98,100,176,154,143,122,121],\n",
    "                 [23,321,345,121,454,189,176,143,121,347,1098],\n",
    "                 [387,231,987,143,190,165,187,166,155,144,2376],\n",
    "                 [154,432,276,287,276,124,549,870,987,213,987]],dtype=np.float16)\n",
    "print(mat2)\n",
    "print(\"Data type of the 2D array is\",mat2.dtype)\n",
    "mat2_default_val = np.int_(mat2)\n",
    "print()\n",
    "print(mat2_default_val)\n",
    "print(\"Data of the 2D array now is\",mat2_default_val.dtype)"
   ]
  },
  {
   "cell_type": "markdown",
   "id": "00f25087-05a5-4a2a-9d9c-4f0ea7c511e5",
   "metadata": {},
   "source": [
    "# The `np.astype()` function in numpy"
   ]
  },
  {
   "cell_type": "code",
   "execution_count": 70,
   "id": "8a089fd9-1ff0-43dd-a312-50f6c4d84603",
   "metadata": {},
   "outputs": [
    {
     "name": "stdout",
     "output_type": "stream",
     "text": [
      "[ 565  125  901  980  876  124  678  656  232  245 1674]\n",
      "Data type: int32\n",
      "[ 565.  125.  901.  980.  876.  124.  678.  656.  232.  245. 1674.]\n",
      "Data type: float32\n"
     ]
    }
   ],
   "source": [
    "arr4 = np.array([565,125,901,980,876,124,678,656,232,245,1674])\n",
    "print(arr4)\n",
    "print(\"Data type:\",arr4.dtype)\n",
    "float_arr4 = arr4.astype(np.float32)\n",
    "print(float_arr4)\n",
    "print(\"Data type:\",float_arr4.dtype)"
   ]
  },
  {
   "cell_type": "code",
   "execution_count": null,
   "id": "18e3f554-4618-4ae4-a0c3-ad711112048a",
   "metadata": {},
   "outputs": [],
   "source": []
  }
 ],
 "metadata": {
  "kernelspec": {
   "display_name": "Python 3 (ipykernel)",
   "language": "python",
   "name": "python3"
  },
  "language_info": {
   "codemirror_mode": {
    "name": "ipython",
    "version": 3
   },
   "file_extension": ".py",
   "mimetype": "text/x-python",
   "name": "python",
   "nbconvert_exporter": "python",
   "pygments_lexer": "ipython3",
   "version": "3.12.0"
  }
 },
 "nbformat": 4,
 "nbformat_minor": 5
}
